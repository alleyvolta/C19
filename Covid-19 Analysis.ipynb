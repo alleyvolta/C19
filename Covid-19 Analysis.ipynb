{
 "cells": [
  {
   "cell_type": "markdown",
   "metadata": {},
   "source": [
    "<b>United States COVID-19 Cases and Deaths by State\n",
    "\n",
    "Date generated: Sat Oct 31 2020 17:39:10 GMT-0700 (Pacific Daylight Time)"
   ]
  },
  {
   "cell_type": "code",
   "execution_count": 4,
   "metadata": {},
   "outputs": [],
   "source": [
    "import pandas as pd, datetime as dt, seaborn as sea, matplotlib.pyplot as plt"
   ]
  },
  {
   "cell_type": "code",
   "execution_count": 5,
   "metadata": {
    "scrolled": true
   },
   "outputs": [],
   "source": [
    "# Must have data downloaded from the CDC website\n",
    "cspud = pd.read_csv(\"COVID-19_Case_Surveillance_Public_Use_Data.csv\", \n",
    "              dtype={\"cdc_report_dt\": \"string\", \"pos_spec_dt\": \"string\",\"onset_dt\": \"string\",\n",
    "                     \"current_status\": \"string\",\"sex\": \"string\",\"age_group\": \"string\",\n",
    "                     \"Race and ethnicity '('combined)\": \"string\",\"hosp_yn\": \"string\",\"icu_yn\": \"string\",\n",
    "                     \"death_yn\": \"string\",\"medcond_yn\": \"string\"})"
   ]
  },
  {
   "cell_type": "code",
   "execution_count": 6,
   "metadata": {},
   "outputs": [
    {
     "data": {
      "text/html": [
       "<div>\n",
       "<style scoped>\n",
       "    .dataframe tbody tr th:only-of-type {\n",
       "        vertical-align: middle;\n",
       "    }\n",
       "\n",
       "    .dataframe tbody tr th {\n",
       "        vertical-align: top;\n",
       "    }\n",
       "\n",
       "    .dataframe thead th {\n",
       "        text-align: right;\n",
       "    }\n",
       "</style>\n",
       "<table border=\"1\" class=\"dataframe\">\n",
       "  <thead>\n",
       "    <tr style=\"text-align: right;\">\n",
       "      <th></th>\n",
       "      <th>cdc_case_earliest_dt</th>\n",
       "      <th>cdc_report_dt</th>\n",
       "      <th>pos_spec_dt</th>\n",
       "      <th>onset_dt</th>\n",
       "      <th>current_status</th>\n",
       "      <th>sex</th>\n",
       "      <th>age_group</th>\n",
       "      <th>race_ethnicity_combined</th>\n",
       "      <th>hosp_yn</th>\n",
       "      <th>icu_yn</th>\n",
       "      <th>death_yn</th>\n",
       "      <th>medcond_yn</th>\n",
       "    </tr>\n",
       "  </thead>\n",
       "  <tbody>\n",
       "    <tr>\n",
       "      <th>0</th>\n",
       "      <td>2021/01/16</td>\n",
       "      <td>2021/01/16</td>\n",
       "      <td>&lt;NA&gt;</td>\n",
       "      <td>&lt;NA&gt;</td>\n",
       "      <td>Laboratory-confirmed case</td>\n",
       "      <td>Male</td>\n",
       "      <td>10 - 19 Years</td>\n",
       "      <td>Black, Non-Hispanic</td>\n",
       "      <td>Missing</td>\n",
       "      <td>Missing</td>\n",
       "      <td>Missing</td>\n",
       "      <td>Missing</td>\n",
       "    </tr>\n",
       "    <tr>\n",
       "      <th>1</th>\n",
       "      <td>2021/01/05</td>\n",
       "      <td>2021/02/10</td>\n",
       "      <td>&lt;NA&gt;</td>\n",
       "      <td>2021/01/05</td>\n",
       "      <td>Laboratory-confirmed case</td>\n",
       "      <td>Male</td>\n",
       "      <td>10 - 19 Years</td>\n",
       "      <td>Black, Non-Hispanic</td>\n",
       "      <td>No</td>\n",
       "      <td>Missing</td>\n",
       "      <td>No</td>\n",
       "      <td>Missing</td>\n",
       "    </tr>\n",
       "    <tr>\n",
       "      <th>2</th>\n",
       "      <td>2021/10/03</td>\n",
       "      <td>2021/10/04</td>\n",
       "      <td>2021/10/03</td>\n",
       "      <td>&lt;NA&gt;</td>\n",
       "      <td>Probable Case</td>\n",
       "      <td>Male</td>\n",
       "      <td>10 - 19 Years</td>\n",
       "      <td>Black, Non-Hispanic</td>\n",
       "      <td>Unknown</td>\n",
       "      <td>Missing</td>\n",
       "      <td>No</td>\n",
       "      <td>Missing</td>\n",
       "    </tr>\n",
       "  </tbody>\n",
       "</table>\n",
       "</div>"
      ],
      "text/plain": [
       "  cdc_case_earliest_dt  cdc_report_dt pos_spec_dt    onset_dt  \\\n",
       "0            2021/01/16    2021/01/16        <NA>        <NA>   \n",
       "1            2021/01/05    2021/02/10        <NA>  2021/01/05   \n",
       "2            2021/10/03    2021/10/04  2021/10/03        <NA>   \n",
       "\n",
       "              current_status   sex      age_group race_ethnicity_combined  \\\n",
       "0  Laboratory-confirmed case  Male  10 - 19 Years     Black, Non-Hispanic   \n",
       "1  Laboratory-confirmed case  Male  10 - 19 Years     Black, Non-Hispanic   \n",
       "2              Probable Case  Male  10 - 19 Years     Black, Non-Hispanic   \n",
       "\n",
       "   hosp_yn   icu_yn death_yn medcond_yn  \n",
       "0  Missing  Missing  Missing    Missing  \n",
       "1       No  Missing       No    Missing  \n",
       "2  Unknown  Missing       No    Missing  "
      ]
     },
     "execution_count": 6,
     "metadata": {},
     "output_type": "execute_result"
    }
   ],
   "source": [
    "cspud.head(3)"
   ]
  },
  {
   "cell_type": "code",
   "execution_count": 7,
   "metadata": {},
   "outputs": [
    {
     "data": {
      "text/html": [
       "<div>\n",
       "<style scoped>\n",
       "    .dataframe tbody tr th:only-of-type {\n",
       "        vertical-align: middle;\n",
       "    }\n",
       "\n",
       "    .dataframe tbody tr th {\n",
       "        vertical-align: top;\n",
       "    }\n",
       "\n",
       "    .dataframe thead th {\n",
       "        text-align: right;\n",
       "    }\n",
       "</style>\n",
       "<table border=\"1\" class=\"dataframe\">\n",
       "  <thead>\n",
       "    <tr style=\"text-align: right;\">\n",
       "      <th></th>\n",
       "      <th>cdc_case_earliest_dt</th>\n",
       "      <th>cdc_report_dt</th>\n",
       "      <th>pos_spec_dt</th>\n",
       "      <th>onset_dt</th>\n",
       "      <th>current_status</th>\n",
       "      <th>sex</th>\n",
       "      <th>age_group</th>\n",
       "      <th>race_ethnicity_combined</th>\n",
       "      <th>hosp_yn</th>\n",
       "      <th>icu_yn</th>\n",
       "      <th>death_yn</th>\n",
       "      <th>medcond_yn</th>\n",
       "    </tr>\n",
       "  </thead>\n",
       "  <tbody>\n",
       "    <tr>\n",
       "      <th>44083360</th>\n",
       "      <td>2021/10/21</td>\n",
       "      <td>2021/10/26</td>\n",
       "      <td>2021/10/21</td>\n",
       "      <td>&lt;NA&gt;</td>\n",
       "      <td>Laboratory-confirmed case</td>\n",
       "      <td>Unknown</td>\n",
       "      <td>70 - 79 Years</td>\n",
       "      <td>Multiple/Other, Non-Hispanic</td>\n",
       "      <td>Missing</td>\n",
       "      <td>Missing</td>\n",
       "      <td>Missing</td>\n",
       "      <td>Missing</td>\n",
       "    </tr>\n",
       "    <tr>\n",
       "      <th>44083361</th>\n",
       "      <td>2020/07/06</td>\n",
       "      <td>2020/10/21</td>\n",
       "      <td>&lt;NA&gt;</td>\n",
       "      <td>2020/07/06</td>\n",
       "      <td>Laboratory-confirmed case</td>\n",
       "      <td>Unknown</td>\n",
       "      <td>70 - 79 Years</td>\n",
       "      <td>Multiple/Other, Non-Hispanic</td>\n",
       "      <td>Yes</td>\n",
       "      <td>Missing</td>\n",
       "      <td>No</td>\n",
       "      <td>Missing</td>\n",
       "    </tr>\n",
       "    <tr>\n",
       "      <th>44083362</th>\n",
       "      <td>2020/11/04</td>\n",
       "      <td>2021/12/06</td>\n",
       "      <td>2020/11/04</td>\n",
       "      <td>2020/11/04</td>\n",
       "      <td>Laboratory-confirmed case</td>\n",
       "      <td>Unknown</td>\n",
       "      <td>70 - 79 Years</td>\n",
       "      <td>Multiple/Other, Non-Hispanic</td>\n",
       "      <td>Unknown</td>\n",
       "      <td>Unknown</td>\n",
       "      <td>Unknown</td>\n",
       "      <td>Unknown</td>\n",
       "    </tr>\n",
       "  </tbody>\n",
       "</table>\n",
       "</div>"
      ],
      "text/plain": [
       "         cdc_case_earliest_dt  cdc_report_dt pos_spec_dt    onset_dt  \\\n",
       "44083360            2021/10/21    2021/10/26  2021/10/21        <NA>   \n",
       "44083361            2020/07/06    2020/10/21        <NA>  2020/07/06   \n",
       "44083362            2020/11/04    2021/12/06  2020/11/04  2020/11/04   \n",
       "\n",
       "                     current_status      sex      age_group  \\\n",
       "44083360  Laboratory-confirmed case  Unknown  70 - 79 Years   \n",
       "44083361  Laboratory-confirmed case  Unknown  70 - 79 Years   \n",
       "44083362  Laboratory-confirmed case  Unknown  70 - 79 Years   \n",
       "\n",
       "               race_ethnicity_combined  hosp_yn   icu_yn death_yn medcond_yn  \n",
       "44083360  Multiple/Other, Non-Hispanic  Missing  Missing  Missing    Missing  \n",
       "44083361  Multiple/Other, Non-Hispanic      Yes  Missing       No    Missing  \n",
       "44083362  Multiple/Other, Non-Hispanic  Unknown  Unknown  Unknown    Unknown  "
      ]
     },
     "execution_count": 7,
     "metadata": {},
     "output_type": "execute_result"
    }
   ],
   "source": [
    "cspud.tail(3)"
   ]
  },
  {
   "cell_type": "code",
   "execution_count": 8,
   "metadata": {},
   "outputs": [
    {
     "name": "stdout",
     "output_type": "stream",
     "text": [
      "82 invalid age entries total\n"
     ]
    }
   ],
   "source": [
    "invalidAgeEntry = 0\n",
    "for nas, csa in zip(cspud['age_group'].isna(), cspud['age_group']):\n",
    "    if(nas):\n",
    "        invalidAgeEntry +=1\n",
    "\n",
    "print(str(invalidAgeEntry) + \" invalid age entries total\")"
   ]
  },
  {
   "cell_type": "code",
   "execution_count": 9,
   "metadata": {},
   "outputs": [
    {
     "name": "stdout",
     "output_type": "stream",
     "text": [
      "Total Accounted People by Age Group\n",
      "\n",
      "0 - 9 Years : 2925223  Percentage: 6.64 %\n",
      "10 - 19 Years : 5505840  Percentage: 12.49 %\n",
      "20 - 29 Years : 7964992  Percentage: 18.07 %\n",
      "30 - 39 Years : 7320239  Percentage: 16.61 %\n",
      "40 - 49 Years : 6297134  Percentage: 14.28 %\n",
      "50 - 59 Years : 5861767  Percentage: 13.3 %\n",
      "60 - 69 Years : 4140542  Percentage: 9.39 %\n",
      "70 - 79 Years : 2229017  Percentage: 5.06 %\n",
      "80+ Years : 1438832  Percentage: 3.26 %\n",
      "Missing : 399695  Percentage: 0.91 %\n",
      "NA : 82  Percentage: 0.0 %\n",
      "\n",
      "Total Recorded People:  44083363\n"
     ]
    }
   ],
   "source": [
    "print(\"Total Accounted People by Age Group\\n\")\n",
    "\n",
    "ageGroup = cspud['age_group']\n",
    "covidStatus = cspud['current_status']\n",
    "deathStatus = cspud['death_yn']\n",
    "ageGroupNA = ageGroup.isna()\n",
    "\n",
    "ageGroups = [\"0 - 9 Years\", \"10 - 19 Years\", \"20 - 29 Years\", \"30 - 39 Years\", \"40 - 49 Years\", \"50 - 59 Years\", \"60 - 69 Years\", \"70 - 79 Years\", \"80+ Years\", \"Missing\", \"NA\"]\n",
    "\n",
    "byAge = [0] * len(ageGroups)\n",
    "\n",
    "for ard, ardna in zip(ageGroup, ageGroupNA):\n",
    "    if(ardna == False):\n",
    "        for ag in ageGroups:\n",
    "            if(ard == ag):\n",
    "                byAge[ageGroups.index(ag)] +=1\n",
    "    else:\n",
    "        byAge[10] +=1\n",
    "\n",
    "totalByAge = sum(byAge)\n",
    "\n",
    "# Print the total # of recorded people by age group\n",
    "for ags, dba in zip(ageGroups, byAge):\n",
    "    print(ags, ':', dba, ' Percentage:', round((dba/totalByAge)*100, 2), '%')\n",
    "\n",
    "print ('\\nTotal Recorded People: ', totalByAge)"
   ]
  },
  {
   "cell_type": "code",
   "execution_count": 10,
   "metadata": {},
   "outputs": [
    {
     "name": "stdout",
     "output_type": "stream",
     "text": [
      "Total Laboratory-Confirmed Cases by Age Group\n",
      "\n",
      "0 - 9 Years : 2486364   Percentage:  6.52 %\n",
      "10 - 19 Years : 4653282   Percentage:  12.2 %\n",
      "20 - 29 Years : 6925378   Percentage:  18.16 %\n",
      "30 - 39 Years : 6334453   Percentage:  16.61 %\n",
      "40 - 49 Years : 5454925   Percentage:  14.3 %\n",
      "50 - 59 Years : 5109134   Percentage:  13.4 %\n",
      "60 - 69 Years : 3645482   Percentage:  9.56 %\n",
      "70 - 79 Years : 1984821   Percentage:  5.2 %\n",
      "80+ Years : 1286134   Percentage:  3.37 %\n",
      "Missing : 255498   Percentage:  0.67 %\n",
      "NA : 0   Percentage:  0.0 %\n",
      "\n",
      "Total Laboratory-Confirmed Cases: 38135471\n",
      "86.51 % Laboratory-Confirmed Cases out of 44083363\n"
     ]
    }
   ],
   "source": [
    "print(\"Total Laboratory-Confirmed Cases by Age Group\\n\")\n",
    "\n",
    "casesByAge = [0] * len(ageGroups)\n",
    "\n",
    "for ard, ardna, cs in zip(ageGroup, ageGroupNA, covidStatus):\n",
    "    if(ardna == False and cs == 'Laboratory-confirmed case'):\n",
    "        for ag in ageGroups:\n",
    "            if(ard == ag):\n",
    "                casesByAge[ageGroups.index(ag)] +=1\n",
    "\n",
    "totalCasesByAge = sum(casesByAge)\n",
    "\n",
    "for ags, dba in zip(ageGroups, casesByAge):\n",
    "    print(ags, ':', dba, '  Percentage: ', round((dba/totalCasesByAge)*100, 2), '%')\n",
    "\n",
    "print('\\nTotal Laboratory-Confirmed Cases:', totalCasesByAge)\n",
    "print(round((totalCasesByAge/totalByAge)*100,2), '% Laboratory-Confirmed Cases out of', totalByAge)"
   ]
  },
  {
   "cell_type": "code",
   "execution_count": 11,
   "metadata": {},
   "outputs": [
    {
     "name": "stdout",
     "output_type": "stream",
     "text": [
      "Total Probable Cases by Age Group\n",
      "\n",
      "0 - 9 Years : 438859  Percentage:  7.38 %\n",
      "10 - 19 Years : 852558  Percentage:  14.33 %\n",
      "20 - 29 Years : 1039614  Percentage:  17.48 %\n",
      "30 - 39 Years : 985786  Percentage:  16.57 %\n",
      "40 - 49 Years : 842209  Percentage:  14.16 %\n",
      "50 - 59 Years : 752633  Percentage:  12.65 %\n",
      "60 - 69 Years : 495060  Percentage:  8.32 %\n",
      "70 - 79 Years : 244196  Percentage:  4.11 %\n",
      "80+ Years : 152698  Percentage:  2.57 %\n",
      "Missing : 144197  Percentage:  2.42 %\n",
      "NA : 0  Percentage:  0.0 %\n",
      "\n",
      "Total Probable Cases:  5947810\n",
      "13.49 % Probable Cases out of 44083363\n"
     ]
    }
   ],
   "source": [
    "print(\"Total Probable Cases by Age Group\\n\")\n",
    "\n",
    "probableCasesByAge = [0] * len(ageGroups)\n",
    "\n",
    "for ard, ardna, cs in zip(ageGroup, ageGroupNA, covidStatus):\n",
    "    if(ardna == False and cs == 'Probable Case'):\n",
    "        for ag in ageGroups:\n",
    "            if(ard == ag):\n",
    "                probableCasesByAge[ageGroups.index(ag)] +=1\n",
    "\n",
    "totalProbableCasesByAge = sum(probableCasesByAge)\n",
    "\n",
    "for ags, dba in zip(ageGroups, probableCasesByAge):\n",
    "    print (ags, ':', dba, ' Percentage: ', round((dba/totalProbableCasesByAge)*100, 2), '%')\n",
    "\n",
    "print ('\\nTotal Probable Cases: ', totalProbableCasesByAge)\n",
    "print(round((totalProbableCasesByAge/totalByAge)*100,2), '% Probable Cases out of', totalByAge)"
   ]
  },
  {
   "cell_type": "code",
   "execution_count": 12,
   "metadata": {},
   "outputs": [
    {
     "data": {
      "image/png": "[encoded data removed]",
      "text/plain": [
       "<Figure size 1296x432 with 1 Axes>"
      ]
     },
     "metadata": {
      "needs_background": "light"
     },
     "output_type": "display_data"
    }
   ],
   "source": [
    "plt.figure(figsize=(18,6))\n",
    "fontTitle = {'family':'serif','color':'Black','size':20}\n",
    "fontLabel = {'family':'serif','color':'Black','size':18}\n",
    "\n",
    "plt.title(\"Age Group COVID Cases\", fontdict = fontTitle)\n",
    "plt.xlabel(\"Age Group\", fontdict = fontLabel)\n",
    "plt.ylabel(\"# of People (Millions)\", fontdict = fontLabel)\n",
    "\n",
    "plt.bar(ageGroups, byAge, color='blue', label=\"Entry\")                      # Entry\n",
    "plt.bar(ageGroups, casesByAge, color='green', label=\"Lab-Confirmed\")        # Lab-confirmed\n",
    "plt.bar(ageGroups, probableCasesByAge, color='yellow', label=\"Probable\")    # Probable\n",
    "plt.legend()\n",
    "\n",
    "plt.show()"
   ]
  },
  {
   "cell_type": "code",
   "execution_count": 13,
   "metadata": {},
   "outputs": [
    {
     "name": "stdout",
     "output_type": "stream",
     "text": [
      "Total Death Cases by Age Group\n",
      "\n",
      "0 - 9 Years : 498  Percentage: 0.07 %\n",
      "10 - 19 Years : 1016  Percentage: 0.14 %\n",
      "20 - 29 Years : 4903  Percentage: 0.69 %\n",
      "30 - 39 Years : 12436  Percentage: 1.75 %\n",
      "40 - 49 Years : 28185  Percentage: 3.96 %\n",
      "50 - 59 Years : 66483  Percentage: 9.33 %\n",
      "60 - 69 Years : 128696  Percentage: 18.07 %\n",
      "70 - 79 Years : 177971  Percentage: 24.98 %\n",
      "80+ Years : 292042  Percentage: 41.0 %\n",
      "Missing : 86  Percentage: 0.01 %\n",
      "NA : 0  Percentage: 0.0 %\n",
      "\n",
      "Total Deaths: 712316\n",
      "1.62% of Deaths out of 44083363\n",
      "Survival rate: 98.38%\n"
     ]
    }
   ],
   "source": [
    "##Tab up entries with that resulted in death by age group.\n",
    "print(\"Total Death Cases by Age Group\\n\")\n",
    "print(\"% is out of the total # of people in the age group\\n\")\n",
    "\n",
    "deathsByAge = [0] * len(ageGroups)\n",
    "\n",
    "for d, ard, ardna in zip(deathStatus, ageGroup, ageGroupNA):\n",
    "    if(d == 'Yes' and ardna == False):\n",
    "        for ag in ageGroups:\n",
    "            if(ard == ag):\n",
    "                deathsByAge[ageGroups.index(ag)] +=1\n",
    "\n",
    "totalDeathsByAge = sum(deathsByAge)\n",
    "\n",
    "for ags, dba in zip(ageGroups, deathsByAge):\n",
    "    print (ags, ':', dba, ' Percentage:', round((dba/totalDeathsByAge)*100,2), '%')\n",
    "\n",
    "print('\\nTotal Deaths:', totalDeathsByAge)\n",
    "print(str(round((totalDeathsByAge/totalByAge)*100,2)) + \"% of Deaths out of \" + str(totalByAge) + \" accounted people.\")\n",
    "print(\"Survival rate: \" + str(100 - round((totalDeathsByAge/totalByAge)*100,2)) + \"%\")"
   ]
  },
  {
   "cell_type": "code",
   "execution_count": 14,
   "metadata": {},
   "outputs": [
    {
     "name": "stdout",
     "output_type": "stream",
     "text": [
      "Total Covid Deaths by Age Group\n",
      "\n",
      "0 - 9 Years : 444  Percentage:  0.07 %\n",
      "10 - 19 Years : 964  Percentage:  0.15 %\n",
      "20 - 29 Years : 4548  Percentage:  0.71 %\n",
      "30 - 39 Years : 11347  Percentage:  1.76 %\n",
      "40 - 49 Years : 25619  Percentage:  3.98 %\n",
      "50 - 59 Years : 60282  Percentage:  9.36 %\n",
      "60 - 69 Years : 117207  Percentage:  18.19 %\n",
      "70 - 79 Years : 161764  Percentage:  25.11 %\n",
      "80+ Years : 262051  Percentage:  40.67 %\n",
      "Missing : 46  Percentage:  0.01 %\n",
      "NA : 0  Percentage:  0.0 %\n",
      "\n",
      "Total Laboratory-Confirmed Covid Deaths: 644272\n",
      "90.45% of total Deaths from Covid\n",
      "So, realistically, 1.46% out of 44083363 died from Covid \n",
      "Realistic Survival Rate: 98.54%\n"
     ]
    }
   ],
   "source": [
    "print(\"Total Covid Deaths by Age Group\\n\")\n",
    "\n",
    "covidDeathsByAge = [0] * len(ageGroups)\n",
    "\n",
    "for d, ard, ardna, cs in zip(deathStatus, ageGroup, ageGroupNA, covidStatus):\n",
    "    if(d == 'Yes' and ardna == False and cs == 'Laboratory-confirmed case'):\n",
    "        for ag in ageGroups:\n",
    "            if(ard == ag):\n",
    "                covidDeathsByAge[ageGroups.index(ag)] +=1\n",
    "\n",
    "totalCovidDeathsByAge = sum(covidDeathsByAge)\n",
    "\n",
    "for ags, dba in zip(ageGroups, covidDeathsByAge):\n",
    "    print (ags, ':', dba, ' Percentage: ', round((dba/totalCovidDeathsByAge)*100, 2), '%')\n",
    "\n",
    "print('\\nTotal Laboratory-Confirmed Covid Deaths:', totalCovidDeathsByAge)\n",
    "print(str(round((totalCovidDeathsByAge/totalDeathsByAge)*100,2)) + \"% of total Deaths from Covid\")\n",
    "print(\"So, realistically, \" + str(round((totalCovidDeathsByAge/totalByAge)*100,2)) + \"% out of \" + str(totalByAge) + \" died from Covid \")\n",
    "print(\"Realistic Survival Rate: \" + str(100 - round((totalCovidDeathsByAge/totalByAge)*100,2)) + \"%\")"
   ]
  },
  {
   "cell_type": "code",
   "execution_count": 46,
   "metadata": {},
   "outputs": [
    {
     "name": "stdout",
     "output_type": "stream",
     "text": [
      "Comorbidities\n",
      "\n",
      "Total Comorbidity Cases: 1977721 \n",
      "Total Comorbidity Deaths: 117079\n"
     ]
    }
   ],
   "source": [
    "##Tab up entries with the same mortality condition.\n",
    "print(\"Comorbidities\\n\")\n",
    "comorbidity = cspud['medcond_yn']\n",
    "coMo, coMoDeath = 0, 0\n",
    "\n",
    "for c,d in zip(comorbidity, deathStatus):\n",
    "    if (c == 'Yes'):\n",
    "        coMo +=1\n",
    "    if (d == 'Yes' and c == 'Yes'):\n",
    "        coMoDeath +=1\n",
    "\n",
    "print('Total Comorbidity Cases:', coMo, '\\nTotal Comorbidity Deaths:', coMoDeath)"
   ]
  },
  {
   "cell_type": "code",
   "execution_count": 47,
   "metadata": {},
   "outputs": [
    {
     "name": "stdout",
     "output_type": "stream",
     "text": [
      "Comorbidity Deaths\n",
      "\n",
      "0 - 9 Years : 34\n",
      "10 - 19 Years : 80\n",
      "20 - 29 Years : 409\n",
      "30 - 39 Years : 1356\n",
      "40 - 49 Years : 3365\n",
      "50 - 59 Years : 9128\n",
      "60 - 69 Years : 19936\n",
      "70 - 79 Years : 28694\n",
      "80+ Years : 44310\n",
      "Missing : 3\n",
      "NA : 0\n",
      "Comorbidity Deaths: 107315\n",
      "Comorbidity Death Percentage: 16.66%\n"
     ]
    }
   ],
   "source": [
    "print(\"Comorbidity Deaths\\n\")\n",
    "deathsByAgeCoMo = [0] * len(ageGroups)\n",
    "\n",
    "for c,d,ard,ardna,cs in zip(comorbidity, deathStatus, ageGroup, ageGroupNA, covidStatus):\n",
    "    if(d == 'Yes' and c == \"Yes\" and ardna == False and cs == 'Laboratory-confirmed case'):\n",
    "        for ag in ageGroups:\n",
    "            if(ard == ag):\n",
    "                deathsByAgeCoMo[ageGroups.index(ag)] +=1\n",
    "\n",
    "for ags,dba in zip(ageGroups, deathsByAgeCoMo):\n",
    "    print(ags, ':', dba, ' Percentage: ', round((dba/totalCovidDeathsByAge)*100, 2), '%')\n",
    "\n",
    "coMoDeaths = sum(deathsByAgeCoMo)\n",
    "coMoDeathRatio = coMoDeaths / totalCovidDeathsByAge\n",
    "\n",
    "print(\"Comorbidity Deaths: \" + str(coMoDeaths) + \"\\nComorbidity Death Percentage: \" + str(round(coMoDeathRatio*100, 2)) + \"%\")"
   ]
  },
  {
   "cell_type": "code",
   "execution_count": 17,
   "metadata": {},
   "outputs": [
    {
     "data": {
      "image/png": "[encoded data removed]",
      "text/plain": [
       "<Figure size 1296x432 with 1 Axes>"
      ]
     },
     "metadata": {
      "needs_background": "light"
     },
     "output_type": "display_data"
    }
   ],
   "source": [
    "plt.figure(figsize=(18,6))\n",
    "fontTitle = {'family':'serif', 'color':'Black', 'size':20}\n",
    "fontLabel = {'family':'serif', 'color':'Black', 'size':18}\n",
    "\n",
    "plt.title(\"Covid Deaths\", fontdict = fontTitle)\n",
    "plt.xlabel('Age Group', fontdict = fontLabel)\n",
    "plt.ylabel('Deaths', fontdict = fontLabel)\n",
    "\n",
    "plt.bar(ageGroups, deathsByAge, color='black', label=\"Total Deaths\")\n",
    "plt.bar(ageGroups, covidDeathsByAge, color='red', label=\"Covid Deaths\")\n",
    "plt.bar(ageGroups, deathsByAgeCoMo, color='gray', label=\"Deaths by Comorbidity\")\n",
    "plt.legend()\n",
    "\n",
    "plt.show()"
   ]
  },
  {
   "cell_type": "code",
   "execution_count": 18,
   "metadata": {},
   "outputs": [
    {
     "name": "stdout",
     "output_type": "stream",
     "text": [
      "Total Covid Survival\n",
      "\n",
      "0 - 9 Years : 971515   Percentage:  6.88 %\n",
      "10 - 19 Years : 1836934   Percentage:  13.01 %\n",
      "20 - 29 Years : 2489596   Percentage:  17.63 %\n",
      "30 - 39 Years : 2280201   Percentage:  16.14 %\n",
      "40 - 49 Years : 2025727   Percentage:  14.34 %\n",
      "50 - 59 Years : 1941042   Percentage:  13.74 %\n",
      "60 - 69 Years : 1402393   Percentage:  9.93 %\n",
      "70 - 79 Years : 749551   Percentage:  5.31 %\n",
      "80+ Years : 422618   Percentage:  2.99 %\n",
      "Missing : 3886   Percentage:  0.03 %\n",
      "NA : 0   Percentage:  0.0 %\n",
      "\n",
      "Total Covid Survival:  14123463\n"
     ]
    }
   ],
   "source": [
    "print(\"Total Covid Survival\\n\")\n",
    "\n",
    "covidSurvivalByAge = [0] * len(ageGroups)\n",
    "\n",
    "for d,ard,ardna,cs in zip(deathStatus, ageGroup, ageGroupNA, covidStatus):\n",
    "    if(d == 'No' and ardna == False and cs == 'Laboratory-confirmed case'):\n",
    "        for ag in ageGroups:\n",
    "            if(ard == ag):\n",
    "                covidSurvivalByAge[ageGroups.index(ag)] +=1\n",
    "\n",
    "totalCovidSurvivalByAge = sum(covidSurvivalByAge)\n",
    "\n",
    "for ags, dba in zip(ageGroups,covidSurvivalByAge):\n",
    "    print(ags, ':', dba, '  Percentage: ', round((dba/totalCovidSurvivalByAge)*100, 2), '%')\n",
    "\n",
    "print ('\\nTotal Covid Survival: ', totalCovidSurvivalByAge)"
   ]
  },
  {
   "cell_type": "code",
   "execution_count": 19,
   "metadata": {},
   "outputs": [
    {
     "name": "stdout",
     "output_type": "stream",
     "text": [
      "Covid Fatality Rate by Age\n",
      "\n",
      "0 - 9 Years : 0.05 %\n",
      "10 - 19 Years : 0.05 %\n",
      "20 - 29 Years : 0.18 %\n",
      "30 - 39 Years : 0.5 %\n",
      "40 - 49 Years : 1.26 %\n",
      "50 - 59 Years : 3.11 %\n",
      "60 - 69 Years : 8.36 %\n",
      "70 - 79 Years : 21.58 %\n",
      "80+ Years : 62.01 %\n",
      "Missing : 1.18 %\n",
      "NA : 0 %\n"
     ]
    }
   ],
   "source": [
    "print(\"Covid Fatality Rate by Age\\n\")\n",
    "\n",
    "covidFatalityRateByAge = [0] * len(ageGroups)\n",
    "\n",
    "for cs,cd in zip(covidSurvivalByAge, covidDeathsByAge):\n",
    "    if(cs == 0):    covidFatalityRateByAge[covidSurvivalByAge.index(cs)] = 0\n",
    "    else:           covidFatalityRateByAge[covidSurvivalByAge.index(cs)] = (cd/cs)\n",
    "\n",
    "for ags, dba in zip(ageGroups,covidFatalityRateByAge):\n",
    "    print(ags, ':', round(dba, 4)*100, '%')"
   ]
  },
  {
   "cell_type": "code",
   "execution_count": 20,
   "metadata": {},
   "outputs": [
    {
     "name": "stdout",
     "output_type": "stream",
     "text": [
      "0 - 9 Years : 410\n",
      "10 - 19 Years : 884\n",
      "20 - 29 Years : 4139\n",
      "30 - 39 Years : 9991\n",
      "40 - 49 Years : 22254\n",
      "50 - 59 Years : 51154\n",
      "60 - 69 Years : 97271\n",
      "70 - 79 Years : 133070\n",
      "80+ Years : 217741\n",
      "Missing : 43\n",
      "NA : 0\n"
     ]
    }
   ],
   "source": [
    "covidNONCoMoFatalityByAge = [0] * len(ageGroups)\n",
    "\n",
    "for cd,cmd in zip(covidDeathsByAge, deathsByAgeCoMo):\n",
    "    covidNONCoMoFatalityByAge[covidDeathsByAge.index(cd)] = cd-cmd\n",
    "    \n",
    "for ags,dba in zip(ageGroups,covidNONCoMoFatalityByAge):\n",
    "    print (ags, ':', dba) "
   ]
  },
  {
   "cell_type": "code",
   "execution_count": 21,
   "metadata": {},
   "outputs": [
    {
     "name": "stdout",
     "output_type": "stream",
     "text": [
      "0 - 9 Years : 0.00042202127604823393\n",
      "10 - 19 Years : 0.00048123666936318886\n",
      "20 - 29 Years : 0.0016625187379799775\n",
      "30 - 39 Years : 0.004381631268471508\n",
      "40 - 49 Years : 0.010985685632861683\n",
      "50 - 59 Years : 0.026353886211632722\n",
      "60 - 69 Years : 0.06936072841207849\n",
      "70 - 79 Years : 0.17753294972590258\n",
      "80+ Years : 0.5152194180086982\n",
      "Missing : 0.011065362840967576\n",
      "NA : 0\n"
     ]
    }
   ],
   "source": [
    "covidNONCoMoFatalityRateByAge = [0] * len(ageGroups)\n",
    "\n",
    "for cs,cd in zip(covidSurvivalByAge, covidNONCoMoFatalityByAge):\n",
    "    if(cs == 0):    covidNONCoMoFatalityRateByAge[covidSurvivalByAge.index(cs)] = 0\n",
    "    else:           covidNONCoMoFatalityRateByAge[covidSurvivalByAge.index(cs)] = (cd/cs)\n",
    "    \n",
    "for ags,dba in zip(ageGroups,covidNONCoMoFatalityRateByAge):\n",
    "    print (ags, ':', dba)"
   ]
  },
  {
   "cell_type": "code",
   "execution_count": 22,
   "metadata": {},
   "outputs": [
    {
     "data": {
      "image/png": "[encoded data removed]",
      "text/plain": [
       "<Figure size 1296x432 with 1 Axes>"
      ]
     },
     "metadata": {
      "needs_background": "light"
     },
     "output_type": "display_data"
    }
   ],
   "source": [
    "plt.figure(figsize=(18,6))\n",
    "fontTitle = {'family':'serif','color':'Black','size':20}\n",
    "fontLabel = {'family':'serif','color':'Black','size':18}\n",
    "\n",
    "plt.title(\"Comorbidity Covid Deaths\", fontdict = fontTitle)\n",
    "plt.xlabel('Age Group', fontdict = fontLabel)\n",
    "plt.ylabel('Deaths', fontdict = fontLabel)\n",
    "\n",
    "plt.bar(ageGroups, covidFatalityRateByAge, color='red', label=\"Deaths w/ Comorbidity\")                # Deaths w/ Comorbidity\n",
    "plt.bar(ageGroups, covidNONCoMoFatalityRateByAge, color='gray', label=\"Deaths w/ No Comorbidity\")     # Deaths w/ NO Comorbidity\n",
    "plt.legend()\n",
    "\n",
    "plt.show()"
   ]
  },
  {
   "cell_type": "code",
   "execution_count": 23,
   "metadata": {},
   "outputs": [
    {
     "name": "stdout",
     "output_type": "stream",
     "text": [
      "Deaths  :  712316 \n",
      "Lived   :  16481876 \n",
      "Unknown :  6211933 \n",
      "Missing :  20677238 \n",
      "\n",
      "Total   :  44083363\n"
     ]
    }
   ],
   "source": [
    "##Tab up entries with the same mortality condition.\n",
    "\n",
    "deaths, unknown, lived, missing = 0, 0, 0, 0\n",
    "\n",
    "for d in deathStatus:\n",
    "    if(d == 'Yes'):\n",
    "        deaths +=1\n",
    "    if(d == 'No'):\n",
    "        lived +=1\n",
    "    if(d == 'Unknown'):\n",
    "        unknown +=1\n",
    "    if(d == 'Missing'):\n",
    "        missing +=1\n",
    "\n",
    "total = deaths + missing + unknown + lived\n",
    "        \n",
    "print('Deaths  : ', deaths, '\\nLived   : ', lived, '\\nUnknown : ', unknown, '\\nMissing : ', missing, '\\n\\nTotal   : ', total)"
   ]
  },
  {
   "cell_type": "code",
   "execution_count": 24,
   "metadata": {},
   "outputs": [
    {
     "name": "stdout",
     "output_type": "stream",
     "text": [
      "Mortality Ratio:  0.04321813851772699 \n",
      "Deaths adjusted for mortality ratio:  1874415\n"
     ]
    }
   ],
   "source": [
    "mortalityRatio = deaths/ lived \n",
    "\n",
    "additionalMissingDeaths = int(mortalityRatio * missing)\n",
    "additionalUnknownDeaths = int(mortalityRatio * unknown)\n",
    "\n",
    "print('Mortality Ratio: ', mortalityRatio, '\\nDeaths adjusted for mortality ratio: ', additionalMissingDeaths + additionalUnknownDeaths + deaths)"
   ]
  },
  {
   "cell_type": "code",
   "execution_count": 32,
   "metadata": {},
   "outputs": [
    {
     "name": "stdout",
     "output_type": "stream",
     "text": [
      "Total Unknown Death Status by Age\n",
      "\n",
      "0 - 9 Years : 289385 , Percentage:  5.45 %\n",
      "10 - 19 Years : 614906 , Percentage:  11.59 %\n",
      "20 - 29 Years : 968531 , Percentage:  18.25 %\n",
      "30 - 39 Years : 879091 , Percentage:  16.57 %\n",
      "40 - 49 Years : 777354 , Percentage:  14.65 %\n",
      "50 - 59 Years : 760530 , Percentage:  14.33 %\n",
      "60 - 69 Years : 549734 , Percentage:  10.36 %\n",
      "70 - 79 Years : 287755 , Percentage:  5.42 %\n",
      "80+ Years : 176071 , Percentage:  3.32 %\n",
      "Missing : 2563 , Percentage:  0.05 %\n",
      "NA : 0 , Percentage:  0.0 %\n",
      "\n",
      "Total Death Status Unknown:  5305920\n"
     ]
    }
   ],
   "source": [
    "print(\"Total Unknown Death Status by Age\\n\")\n",
    "\n",
    "covidUnknownByAge = [0] * len(ageGroups)\n",
    "\n",
    "for d,ard,ardna,cs in zip(deathStatus, ageGroup, ageGroupNA, covidStatus):\n",
    "    if(d == 'Unknown' and ardna == False and cs == 'Laboratory-confirmed case'):\n",
    "        for ag in ageGroups:\n",
    "            if(ard == ag):\n",
    "                covidUnknownByAge[ageGroups.index(ag)] +=1\n",
    "\n",
    "totalCovidUnknownByAge = sum(covidUnknownByAge)\n",
    "\n",
    "for ags,dba in zip(ageGroups,covidUnknownByAge):\n",
    "    print (ags, ':', dba, ', Percentage: ', round((dba/totalCovidUnknownByAge)*100,2), '%')\n",
    "\n",
    "print ('\\nTotal Death Status Unknown: ', totalCovidUnknownByAge)"
   ]
  },
  {
   "cell_type": "code",
   "execution_count": 26,
   "metadata": {},
   "outputs": [
    {
     "name": "stdout",
     "output_type": "stream",
     "text": [
      "Total Additional Unknown Deaths Status by Age\n",
      "\n",
      "0 - 9 Years : 132\n",
      "10 - 19 Years : 322\n",
      "20 - 29 Years : 1769\n",
      "30 - 39 Years : 4374\n",
      "40 - 49 Years : 9831\n",
      "50 - 59 Years : 23619\n",
      "60 - 69 Years : 45944\n",
      "70 - 79 Years : 62101\n",
      "80+ Years : 109175\n",
      "Missing : 30\n",
      "NA : 0\n",
      "\n",
      "Total Additional Death Status Unknown:  257297\n"
     ]
    }
   ],
   "source": [
    "print(\"Total Additional Unknown Deaths Status by Age\\n\")\n",
    "covidAdditionalUnknownDeathsByAge = [0] * len(ageGroups)\n",
    "\n",
    "for ags,dba,cfr in zip(ageGroups, covidUnknownByAge, covidFatalityRateByAge):\n",
    "    covidAdditionalUnknownDeathsByAge[covidFatalityRateByAge.index(cfr)] = int(dba*cfr)\n",
    "    print (ags, ':', int(dba*cfr))\n",
    "    \n",
    "totalCovidAdditionalUnknownByAge = sum(covidAdditionalUnknownDeathsByAge)\n",
    "\n",
    "print ('\\nTotal Additional Death Status Unknown: ', totalCovidAdditionalUnknownByAge)"
   ]
  },
  {
   "cell_type": "code",
   "execution_count": 27,
   "metadata": {},
   "outputs": [
    {
     "name": "stdout",
     "output_type": "stream",
     "text": [
      "Total Missing Deaths by Age\n",
      "\n",
      "0 - 9 Years : 1225020\n",
      "10 - 19 Years : 2200478\n",
      "20 - 29 Years : 3462703\n",
      "30 - 39 Years : 3163814\n",
      "40 - 49 Years : 2626225\n",
      "50 - 59 Years : 2347280\n",
      "60 - 69 Years : 1576148\n",
      "70 - 79 Years : 785751\n",
      "80+ Years : 425394\n",
      "Missing : 249003\n",
      "NA : 0\n",
      "\n",
      "Total Death Status Missing:  18061816\n"
     ]
    }
   ],
   "source": [
    "print(\"Total Missing Deaths by Age\\n\")\n",
    "\n",
    "covidMissingByAge = [0] * len(ageGroups)\n",
    "\n",
    "for d,ard,ardna,cs in zip(deathStatus, ageGroup, ageGroupNA, covidStatus):\n",
    "    if(d == 'Missing' and ardna == False and cs == 'Laboratory-confirmed case'):\n",
    "        for ag in ageGroups:\n",
    "            if(ard == ag):\n",
    "                covidMissingByAge[ageGroups.index(ag)] +=1\n",
    "\n",
    "for ags,dba in zip(ageGroups,covidMissingByAge):\n",
    "    print (ags, ':', dba)\n",
    "\n",
    "totalCovidMissingByAge = sum(covidMissingByAge)\n",
    "\n",
    "print ('\\nTotal Death Status Missing: ', totalCovidMissingByAge)"
   ]
  },
  {
   "cell_type": "code",
   "execution_count": 33,
   "metadata": {},
   "outputs": [
    {
     "name": "stdout",
     "output_type": "stream",
     "text": [
      "Total Additional Missing Death Status\n",
      "\n",
      "0 - 9 Years : 559\n",
      "10 - 19 Years : 1154\n",
      "20 - 29 Years : 6325\n",
      "30 - 39 Years : 15744\n",
      "40 - 49 Years : 33213\n",
      "50 - 59 Years : 72898\n",
      "60 - 69 Years : 131728\n",
      "70 - 79 Years : 169576\n",
      "80+ Years : 263772\n",
      "Missing : 2947\n",
      "NA : 0\n",
      "\n",
      "Total Additional Missing Death Status:  697916\n"
     ]
    }
   ],
   "source": [
    "print(\"Total Additional Missing Death Status\\n\")\n",
    "\n",
    "covidAdditionalMissingDeathsByAge = [0] * len(ageGroups)\n",
    "\n",
    "for ags,dba,cfr in zip(ageGroups, covidMissingByAge, covidFatalityRateByAge):\n",
    "    covidAdditionalMissingDeathsByAge[covidFatalityRateByAge.index(cfr)] = int(dba*cfr)\n",
    "    print (ags, ':', int(dba*cfr))\n",
    "    \n",
    "totalCovidAdditionalMissingByAge = sum(covidAdditionalMissingDeathsByAge)\n",
    "\n",
    "print ('\\nTotal Additional Missing Death Status: ', totalCovidAdditionalMissingByAge)"
   ]
  },
  {
   "cell_type": "code",
   "execution_count": 34,
   "metadata": {},
   "outputs": [
    {
     "name": "stdout",
     "output_type": "stream",
     "text": [
      "Total Covid Additional Missing by Age: 697916\n"
     ]
    }
   ],
   "source": [
    "totalCovidAdditionalMissingByAge + totalCovidMissingByAge + totalCovidDeathsByAge\n",
    "\n",
    "print(\"Total Covid Additional Missing by Age: \" + str(totalCovidAdditionalMissingByAge))"
   ]
  },
  {
   "cell_type": "code",
   "execution_count": 39,
   "metadata": {},
   "outputs": [
    {
     "data": {
      "image/png": "[encoded data removed]",
      "text/plain": [
       "<Figure size 1296x432 with 1 Axes>"
      ]
     },
     "metadata": {
      "needs_background": "light"
     },
     "output_type": "display_data"
    }
   ],
   "source": [
    "plt.figure(figsize=(18,6))\n",
    "fontTitle = {'family':'serif','color':'Black','size':20}\n",
    "fontLabel = {'family':'serif','color':'Black','size':18}\n",
    "\n",
    "plt.title(\"Covid Additional Deaths\", fontdict=fontTitle)\n",
    "plt.xlabel('Age Group', fontdict=fontLabel)\n",
    "plt.ylabel('Additional Deaths', fontdict=fontLabel)\n",
    "\n",
    "plt.bar(ageGroups, covidDeathsByAge, color='black', label=\"Deaths\")\n",
    "plt.bar(ageGroups, covidAdditionalMissingDeathsByAge, color='red', label=\"Covid Missing Additional Deaths\")\n",
    "plt.bar(ageGroups, covidAdditionalUnknownDeathsByAge, color='gray', label=\"Covid Unknown Deaths\")\n",
    "plt.legend()\n",
    "\n",
    "plt.show()"
   ]
  },
  {
   "cell_type": "code",
   "execution_count": 41,
   "metadata": {},
   "outputs": [
    {
     "data": {
      "text/plain": [
       "<matplotlib.legend.Legend at 0x125253a08b0>"
      ]
     },
     "execution_count": 41,
     "metadata": {},
     "output_type": "execute_result"
    },
    {
     "data": {
      "image/png": "[encoded data removed]",
      "text/plain": [
       "<Figure size 1296x432 with 1 Axes>"
      ]
     },
     "metadata": {
      "needs_background": "light"
     },
     "output_type": "display_data"
    }
   ],
   "source": [
    "#plt.figure(figsize=(18,6))\n",
    "#fontTitle = {'family':'serif','color':'Black','size':20}\n",
    "#fontLabel = {'family':'serif','color':'Black','size':18}\n",
    "#\n",
    "#plt.title(\"Deaths\", fontdict=fontTitle)\n",
    "#plt.xlabel(\"Age Group\", fontdict=fontLabel)\n",
    "#plt.ylabel\n",
    "#\n",
    "#plt.bar(ageGroups, covidDeathsByAge, color='black', label=\"Deaths\")\n",
    "#plt.bar(ageGroups, covidAdditionalMissingDeathsByAge, color='red', label=\"Missing Additional Deaths\")\n",
    "#plt.bar(ageGroups, covidAdditionalUnknownDeathsByAge, color='gray', label=\"Covid Unknown Deaths\")\n",
    "#plt.legend()\n",
    "#\n",
    "#plt.show()\n",
    "\n",
    "deathFrame=pd.DataFrame(zip(ageGroups, covidDeathsByAge, covidAdditionalMissingDeathsByAge, covidAdditionalUnknownDeathsByAge))\n",
    "\n",
    "colors = ['black', 'red', 'gray']\n",
    "lgn = ['Deaths', 'Additional Missing Deaths', 'Additional Unknown Deaths']\n",
    "\n",
    "ax = deathFrame.plot(kind='bar', stacked=True, color=colors, figsize=(18,6))\n",
    "\n",
    "ax.legend(lgn)"
   ]
  },
  {
   "cell_type": "code",
   "execution_count": 36,
   "metadata": {},
   "outputs": [
    {
     "name": "stdout",
     "output_type": "stream",
     "text": [
      "Additional: 955213\n",
      "Total with Additional: 1599485\n"
     ]
    }
   ],
   "source": [
    "print ('Additional:', int(totalCovidAdditionalMissingByAge + totalCovidAdditionalUnknownByAge))\n",
    "print ('Total with Additional:', int(totalCovidAdditionalMissingByAge + totalCovidAdditionalUnknownByAge + totalCovidDeathsByAge))"
   ]
  },
  {
   "cell_type": "code",
   "execution_count": 44,
   "metadata": {},
   "outputs": [
    {
     "ename": "TypeError",
     "evalue": "strptime() argument 1 must be str, not NAType",
     "output_type": "error",
     "traceback": [
      "\u001b[1;31m---------------------------------------------------------------------------\u001b[0m",
      "\u001b[1;31mTypeError\u001b[0m                                 Traceback (most recent call last)",
      "\u001b[1;32mc:\\Users\\VidaMoca\\Documents\\GitHub\\C19\\Covid-19 Analysis.ipynb Cell 31'\u001b[0m in \u001b[0;36m<module>\u001b[1;34m\u001b[0m\n\u001b[0;32m      <a href='vscode-notebook-cell:/c%3A/Users/VidaMoca/Documents/GitHub/C19/Covid-19%20Analysis.ipynb#ch0000030?line=0'>1</a>\u001b[0m initialReportDate \u001b[39m=\u001b[39m cspud[\u001b[39m'\u001b[39m\u001b[39mcdc_report_dt\u001b[39m\u001b[39m'\u001b[39m]\n\u001b[1;32m----> <a href='vscode-notebook-cell:/c%3A/Users/VidaMoca/Documents/GitHub/C19/Covid-19%20Analysis.ipynb#ch0000030?line=2'>3</a>\u001b[0m initialReportDatetime \u001b[39m=\u001b[39m [dt\u001b[39m.\u001b[39mdatetime\u001b[39m.\u001b[39mstrptime(x, \u001b[39m\"\u001b[39m\u001b[39m%\u001b[39m\u001b[39mY/\u001b[39m\u001b[39m%\u001b[39m\u001b[39mm/\u001b[39m\u001b[39m%d\u001b[39;00m\u001b[39m\"\u001b[39m) \u001b[39mfor\u001b[39;00m x \u001b[39min\u001b[39;00m initialReportDate]\n",
      "\u001b[1;32mc:\\Users\\VidaMoca\\Documents\\GitHub\\C19\\Covid-19 Analysis.ipynb Cell 31'\u001b[0m in \u001b[0;36m<listcomp>\u001b[1;34m(.0)\u001b[0m\n\u001b[0;32m      <a href='vscode-notebook-cell:/c%3A/Users/VidaMoca/Documents/GitHub/C19/Covid-19%20Analysis.ipynb#ch0000030?line=0'>1</a>\u001b[0m initialReportDate \u001b[39m=\u001b[39m cspud[\u001b[39m'\u001b[39m\u001b[39mcdc_report_dt\u001b[39m\u001b[39m'\u001b[39m]\n\u001b[1;32m----> <a href='vscode-notebook-cell:/c%3A/Users/VidaMoca/Documents/GitHub/C19/Covid-19%20Analysis.ipynb#ch0000030?line=2'>3</a>\u001b[0m initialReportDatetime \u001b[39m=\u001b[39m [dt\u001b[39m.\u001b[39;49mdatetime\u001b[39m.\u001b[39;49mstrptime(x, \u001b[39m\"\u001b[39;49m\u001b[39m%\u001b[39;49m\u001b[39mY/\u001b[39;49m\u001b[39m%\u001b[39;49m\u001b[39mm/\u001b[39;49m\u001b[39m%d\u001b[39;49;00m\u001b[39m\"\u001b[39;49m) \u001b[39mfor\u001b[39;00m x \u001b[39min\u001b[39;00m initialReportDate]\n",
      "\u001b[1;31mTypeError\u001b[0m: strptime() argument 1 must be str, not NAType"
     ]
    }
   ],
   "source": [
    "initialReportDate = cspud['cdc_report_dt']\n",
    "\n",
    "initialReportDatetime = [dt.datetime.strptime(x, \"%Y/%m/%d\") for x in initialReportDate]"
   ]
  },
  {
   "cell_type": "code",
   "execution_count": 188,
   "metadata": {},
   "outputs": [],
   "source": [
    "covidDeathIRD, covidDeathIRDAG = [], []\n",
    "\n",
    "initialReportDatetime.sort()\n",
    "\n",
    "for d,ird,ag,agna,cs in zip(deathStatus, initialReportDatetime, ageGroup, ageGroupNA, covidStatus):\n",
    "    if (d == 'Yes' and cs == 'Laboratory-confirmed case' and agna == False):\n",
    "        covidDeathIRD.append(ird)\n",
    "        covidDeathIRDAG.append(ag)"
   ]
  },
  {
   "cell_type": "code",
   "execution_count": 173,
   "metadata": {},
   "outputs": [],
   "source": [
    "covidDeathDailyTotalIRD, covidDeathDailyIRD = [], []\n",
    "\n",
    "tempIRD = None\n",
    "dailyIRD = 0\n",
    "\n",
    "for cdird in covidDeathIRD:\n",
    "    if(tempIRD == None):\n",
    "        tempIRD = cdird\n",
    "        dailyIRD = 1\n",
    "    elif(tempIRD == cdird):\n",
    "        dailyIRD += 1\n",
    "    elif(tempIRD != cdird):\n",
    "        covidDeathDailyIRD.append(cdird)\n",
    "        covidDeathDailyTotalIRD.append(dailyIRD)\n",
    "        dailyIRD = 1\n",
    "        tempIRD = cdird"
   ]
  },
  {
   "cell_type": "code",
   "execution_count": 174,
   "metadata": {},
   "outputs": [
    {
     "data": {
      "text/plain": [
       "0"
      ]
     },
     "execution_count": 174,
     "metadata": {},
     "output_type": "execute_result"
    }
   ],
   "source": [
    "sum(covidDeathDailyTotalIRD)"
   ]
  },
  {
   "cell_type": "code",
   "execution_count": null,
   "metadata": {
    "scrolled": false
   },
   "outputs": [
    {
     "data": {
      "image/png": "[encoded data removed]",
      "text/plain": [
       "<Figure size 1296x720 with 1 Axes>"
      ]
     },
     "metadata": {
      "needs_background": "light"
     },
     "output_type": "display_data"
    }
   ],
   "source": [
    "plt.figure(figsize=(18,10))\n",
    "\n",
    "plt.scatter(covidDeathDailyIRD, covidDeathDailyTotalIRD, marker='.')\n",
    "plt.ylim(-100,2500)\n",
    "plt.show()"
   ]
  },
  {
   "cell_type": "code",
   "execution_count": null,
   "metadata": {},
   "outputs": [
    {
     "data": {
      "image/png": "[encoded data removed]",
      "text/plain": [
       "<Figure size 1296x720 with 1 Axes>"
      ]
     },
     "metadata": {
      "needs_background": "light"
     },
     "output_type": "display_data"
    }
   ],
   "source": [
    "plt.figure(figsize=(18,10))\n",
    "\n",
    "plt.scatter(covidDeathIRD, covidDeathIRDAG, marker='.')\n",
    "plt.show()"
   ]
  },
  {
   "cell_type": "code",
   "execution_count": null,
   "metadata": {
    "scrolled": true
   },
   "outputs": [
    {
     "data": {
      "text/html": [
       "<div>\n",
       "<style scoped>\n",
       "    .dataframe tbody tr th:only-of-type {\n",
       "        vertical-align: middle;\n",
       "    }\n",
       "\n",
       "    .dataframe tbody tr th {\n",
       "        vertical-align: top;\n",
       "    }\n",
       "\n",
       "    .dataframe thead th {\n",
       "        text-align: right;\n",
       "    }\n",
       "</style>\n",
       "<table border=\"1\" class=\"dataframe\">\n",
       "  <thead>\n",
       "    <tr style=\"text-align: right;\">\n",
       "      <th></th>\n",
       "      <th>submission_date</th>\n",
       "      <th>state</th>\n",
       "      <th>tot_cases</th>\n",
       "      <th>conf_cases</th>\n",
       "      <th>prob_cases</th>\n",
       "      <th>new_case</th>\n",
       "      <th>pnew_case</th>\n",
       "      <th>tot_death</th>\n",
       "      <th>conf_death</th>\n",
       "      <th>prob_death</th>\n",
       "      <th>new_death</th>\n",
       "      <th>pnew_death</th>\n",
       "      <th>created_at</th>\n",
       "      <th>consent_cases</th>\n",
       "      <th>consent_deaths</th>\n",
       "    </tr>\n",
       "  </thead>\n",
       "  <tbody>\n",
       "    <tr>\n",
       "      <th>0</th>\n",
       "      <td>01/22/2020</td>\n",
       "      <td>CO</td>\n",
       "      <td>0</td>\n",
       "      <td>NaN</td>\n",
       "      <td>NaN</td>\n",
       "      <td>0</td>\n",
       "      <td>NaN</td>\n",
       "      <td>0</td>\n",
       "      <td>NaN</td>\n",
       "      <td>NaN</td>\n",
       "      <td>0</td>\n",
       "      <td>NaN</td>\n",
       "      <td>03/26/2020 04:22:39 PM</td>\n",
       "      <td>Agree</td>\n",
       "      <td>Agree</td>\n",
       "    </tr>\n",
       "    <tr>\n",
       "      <th>1</th>\n",
       "      <td>01/23/2020</td>\n",
       "      <td>CO</td>\n",
       "      <td>0</td>\n",
       "      <td>NaN</td>\n",
       "      <td>NaN</td>\n",
       "      <td>0</td>\n",
       "      <td>NaN</td>\n",
       "      <td>0</td>\n",
       "      <td>NaN</td>\n",
       "      <td>NaN</td>\n",
       "      <td>0</td>\n",
       "      <td>NaN</td>\n",
       "      <td>03/26/2020 04:22:39 PM</td>\n",
       "      <td>Agree</td>\n",
       "      <td>Agree</td>\n",
       "    </tr>\n",
       "    <tr>\n",
       "      <th>2</th>\n",
       "      <td>01/24/2020</td>\n",
       "      <td>CO</td>\n",
       "      <td>0</td>\n",
       "      <td>NaN</td>\n",
       "      <td>NaN</td>\n",
       "      <td>0</td>\n",
       "      <td>NaN</td>\n",
       "      <td>0</td>\n",
       "      <td>NaN</td>\n",
       "      <td>NaN</td>\n",
       "      <td>0</td>\n",
       "      <td>NaN</td>\n",
       "      <td>03/26/2020 04:22:39 PM</td>\n",
       "      <td>Agree</td>\n",
       "      <td>Agree</td>\n",
       "    </tr>\n",
       "    <tr>\n",
       "      <th>3</th>\n",
       "      <td>01/25/2020</td>\n",
       "      <td>CO</td>\n",
       "      <td>0</td>\n",
       "      <td>NaN</td>\n",
       "      <td>NaN</td>\n",
       "      <td>0</td>\n",
       "      <td>NaN</td>\n",
       "      <td>0</td>\n",
       "      <td>NaN</td>\n",
       "      <td>NaN</td>\n",
       "      <td>0</td>\n",
       "      <td>NaN</td>\n",
       "      <td>03/26/2020 04:22:39 PM</td>\n",
       "      <td>Agree</td>\n",
       "      <td>Agree</td>\n",
       "    </tr>\n",
       "    <tr>\n",
       "      <th>4</th>\n",
       "      <td>01/26/2020</td>\n",
       "      <td>CO</td>\n",
       "      <td>0</td>\n",
       "      <td>NaN</td>\n",
       "      <td>NaN</td>\n",
       "      <td>0</td>\n",
       "      <td>NaN</td>\n",
       "      <td>0</td>\n",
       "      <td>NaN</td>\n",
       "      <td>NaN</td>\n",
       "      <td>0</td>\n",
       "      <td>NaN</td>\n",
       "      <td>03/26/2020 04:22:39 PM</td>\n",
       "      <td>Agree</td>\n",
       "      <td>Agree</td>\n",
       "    </tr>\n",
       "  </tbody>\n",
       "</table>\n",
       "</div>"
      ],
      "text/plain": [
       "  submission_date state  tot_cases  conf_cases  prob_cases  new_case  \\\n",
       "0      01/22/2020    CO          0         NaN         NaN         0   \n",
       "1      01/23/2020    CO          0         NaN         NaN         0   \n",
       "2      01/24/2020    CO          0         NaN         NaN         0   \n",
       "3      01/25/2020    CO          0         NaN         NaN         0   \n",
       "4      01/26/2020    CO          0         NaN         NaN         0   \n",
       "\n",
       "   pnew_case  tot_death  conf_death  prob_death  new_death  pnew_death  \\\n",
       "0        NaN          0         NaN         NaN          0         NaN   \n",
       "1        NaN          0         NaN         NaN          0         NaN   \n",
       "2        NaN          0         NaN         NaN          0         NaN   \n",
       "3        NaN          0         NaN         NaN          0         NaN   \n",
       "4        NaN          0         NaN         NaN          0         NaN   \n",
       "\n",
       "               created_at consent_cases consent_deaths  \n",
       "0  03/26/2020 04:22:39 PM         Agree          Agree  \n",
       "1  03/26/2020 04:22:39 PM         Agree          Agree  \n",
       "2  03/26/2020 04:22:39 PM         Agree          Agree  \n",
       "3  03/26/2020 04:22:39 PM         Agree          Agree  \n",
       "4  03/26/2020 04:22:39 PM         Agree          Agree  "
      ]
     },
     "execution_count": 33,
     "metadata": {},
     "output_type": "execute_result"
    }
   ],
   "source": [
    "cdbsot = pd.read_csv(\"~/Downloads/United_States_COVID-19_Cases_and_Deaths_by_State_over_Time.csv\")\n",
    "\n",
    "cdbsot.head()"
   ]
  },
  {
   "cell_type": "code",
   "execution_count": null,
   "metadata": {},
   "outputs": [
    {
     "data": {
      "text/plain": [
       "229109"
      ]
     },
     "execution_count": 34,
     "metadata": {},
     "output_type": "execute_result"
    }
   ],
   "source": [
    "reportedNewDeaths = cdbsot['new_death']\n",
    "\n",
    "reportedTotalDeaths = sum(reportedNewDeaths)\n",
    "\n",
    "reportedTotalDeaths"
   ]
  },
  {
   "cell_type": "code",
   "execution_count": null,
   "metadata": {},
   "outputs": [
    {
     "name": "stdout",
     "output_type": "stream",
     "text": [
      "92701 92709\n"
     ]
    }
   ],
   "source": [
    "deathTotalDifference = reportedTotalDeaths - deaths\n",
    "\n",
    "deathByAgeTotalDifference = reportedTotalDeaths - totalDeathsByAge\n",
    "\n",
    "print(deathTotalDifference, deathByAgeTotalDifference)"
   ]
  },
  {
   "cell_type": "code",
   "execution_count": null,
   "metadata": {
    "scrolled": true
   },
   "outputs": [
    {
     "data": {
      "text/html": [
       "<div>\n",
       "<style scoped>\n",
       "    .dataframe tbody tr th:only-of-type {\n",
       "        vertical-align: middle;\n",
       "    }\n",
       "\n",
       "    .dataframe tbody tr th {\n",
       "        vertical-align: top;\n",
       "    }\n",
       "\n",
       "    .dataframe thead th {\n",
       "        text-align: right;\n",
       "    }\n",
       "</style>\n",
       "<table border=\"1\" class=\"dataframe\">\n",
       "  <thead>\n",
       "    <tr style=\"text-align: right;\">\n",
       "      <th></th>\n",
       "      <th>State/Territory</th>\n",
       "      <th>Total Cases</th>\n",
       "      <th>Confirmed Cases</th>\n",
       "      <th>Probable Cases</th>\n",
       "      <th>Cases in Last 7 Days</th>\n",
       "      <th>Case Rate per 100000</th>\n",
       "      <th>Total Deaths</th>\n",
       "      <th>Confirmed Deaths</th>\n",
       "      <th>Probable Deaths</th>\n",
       "      <th>Deaths in Last 7 Days</th>\n",
       "      <th>Death Rate per 100000</th>\n",
       "      <th>Case Rate per 100000 in Last 7 Days</th>\n",
       "      <th>Death Rate per 100K in Last 7 Days</th>\n",
       "    </tr>\n",
       "  </thead>\n",
       "  <tbody>\n",
       "    <tr>\n",
       "      <th>0</th>\n",
       "      <td>Alaska</td>\n",
       "      <td>14837</td>\n",
       "      <td>NaN</td>\n",
       "      <td>NaN</td>\n",
       "      <td>2719</td>\n",
       "      <td>2012</td>\n",
       "      <td>81</td>\n",
       "      <td>NaN</td>\n",
       "      <td>NaN</td>\n",
       "      <td>13</td>\n",
       "      <td>10</td>\n",
       "      <td>52.7</td>\n",
       "      <td>0.3</td>\n",
       "    </tr>\n",
       "    <tr>\n",
       "      <th>1</th>\n",
       "      <td>Alabama</td>\n",
       "      <td>190496</td>\n",
       "      <td>162720.0</td>\n",
       "      <td>27776.0</td>\n",
       "      <td>9580</td>\n",
       "      <td>3897</td>\n",
       "      <td>2932</td>\n",
       "      <td>2735.0</td>\n",
       "      <td>197.0</td>\n",
       "      <td>73</td>\n",
       "      <td>59</td>\n",
       "      <td>28.0</td>\n",
       "      <td>0.2</td>\n",
       "    </tr>\n",
       "    <tr>\n",
       "      <th>2</th>\n",
       "      <td>Arkansas</td>\n",
       "      <td>110874</td>\n",
       "      <td>NaN</td>\n",
       "      <td>NaN</td>\n",
       "      <td>6739</td>\n",
       "      <td>3679</td>\n",
       "      <td>1900</td>\n",
       "      <td>NaN</td>\n",
       "      <td>NaN</td>\n",
       "      <td>118</td>\n",
       "      <td>63</td>\n",
       "      <td>31.9</td>\n",
       "      <td>0.6</td>\n",
       "    </tr>\n",
       "    <tr>\n",
       "      <th>3</th>\n",
       "      <td>American Samoa</td>\n",
       "      <td>0</td>\n",
       "      <td>NaN</td>\n",
       "      <td>NaN</td>\n",
       "      <td>0</td>\n",
       "      <td>0</td>\n",
       "      <td>0</td>\n",
       "      <td>NaN</td>\n",
       "      <td>NaN</td>\n",
       "      <td>0</td>\n",
       "      <td>0</td>\n",
       "      <td>0.0</td>\n",
       "      <td>0.0</td>\n",
       "    </tr>\n",
       "    <tr>\n",
       "      <th>4</th>\n",
       "      <td>Arizona</td>\n",
       "      <td>244045</td>\n",
       "      <td>238356.0</td>\n",
       "      <td>5689.0</td>\n",
       "      <td>8163</td>\n",
       "      <td>3403</td>\n",
       "      <td>5934</td>\n",
       "      <td>5641.0</td>\n",
       "      <td>293.0</td>\n",
       "      <td>69</td>\n",
       "      <td>82</td>\n",
       "      <td>16.3</td>\n",
       "      <td>0.1</td>\n",
       "    </tr>\n",
       "  </tbody>\n",
       "</table>\n",
       "</div>"
      ],
      "text/plain": [
       "  State/Territory  Total Cases  Confirmed Cases  Probable Cases  \\\n",
       "0          Alaska        14837              NaN             NaN   \n",
       "1         Alabama       190496         162720.0         27776.0   \n",
       "2        Arkansas       110874              NaN             NaN   \n",
       "3  American Samoa            0              NaN             NaN   \n",
       "4         Arizona       244045         238356.0          5689.0   \n",
       "\n",
       "   Cases in Last 7 Days  Case Rate per 100000  Total Deaths  Confirmed Deaths  \\\n",
       "0                  2719                  2012            81               NaN   \n",
       "1                  9580                  3897          2932            2735.0   \n",
       "2                  6739                  3679          1900               NaN   \n",
       "3                     0                     0             0               NaN   \n",
       "4                  8163                  3403          5934            5641.0   \n",
       "\n",
       "   Probable Deaths  Deaths in Last 7 Days  Death Rate per 100000  \\\n",
       "0              NaN                     13                     10   \n",
       "1            197.0                     73                     59   \n",
       "2              NaN                    118                     63   \n",
       "3              NaN                      0                      0   \n",
       "4            293.0                     69                     82   \n",
       "\n",
       "   Case Rate per 100000 in Last 7 Days  Death Rate per 100K in Last 7 Days  \n",
       "0                                 52.7                                 0.3  \n",
       "1                                 28.0                                 0.2  \n",
       "2                                 31.9                                 0.6  \n",
       "3                                  0.0                                 0.0  \n",
       "4                                 16.3                                 0.1  "
      ]
     },
     "execution_count": 36,
     "metadata": {},
     "output_type": "execute_result"
    }
   ],
   "source": [
    "cdbs = pd.read_csv(\"~/Downloads/united_states_covid19_cases_and_deaths_by_state.csv\")\n",
    "\n",
    "cdbs.head()"
   ]
  },
  {
   "cell_type": "code",
   "execution_count": null,
   "metadata": {},
   "outputs": [
    {
     "data": {
      "text/plain": [
       "229109"
      ]
     },
     "execution_count": 37,
     "metadata": {},
     "output_type": "execute_result"
    }
   ],
   "source": [
    "reportedStateDeaths = cdbs['Total Deaths']\n",
    "\n",
    "reportedStateTotalDeaths = sum(reportedStateDeaths)\n",
    "\n",
    "reportedStateTotalDeaths"
   ]
  },
  {
   "cell_type": "code",
   "execution_count": null,
   "metadata": {},
   "outputs": [],
   "source": [
    "populationData = pd.read_csv('nst-est2019-alldata.csv')"
   ]
  },
  {
   "cell_type": "code",
   "execution_count": null,
   "metadata": {},
   "outputs": [
    {
     "data": {
      "text/html": [
       "<div>\n",
       "<style scoped>\n",
       "    .dataframe tbody tr th:only-of-type {\n",
       "        vertical-align: middle;\n",
       "    }\n",
       "\n",
       "    .dataframe tbody tr th {\n",
       "        vertical-align: top;\n",
       "    }\n",
       "\n",
       "    .dataframe thead th {\n",
       "        text-align: right;\n",
       "    }\n",
       "</style>\n",
       "<table border=\"1\" class=\"dataframe\">\n",
       "  <thead>\n",
       "    <tr style=\"text-align: right;\">\n",
       "      <th></th>\n",
       "      <th>SUMLEV</th>\n",
       "      <th>REGION</th>\n",
       "      <th>DIVISION</th>\n",
       "      <th>STATE</th>\n",
       "      <th>NAME</th>\n",
       "      <th>CENSUS2010POP</th>\n",
       "      <th>ESTIMATESBASE2010</th>\n",
       "      <th>POPESTIMATE2010</th>\n",
       "      <th>POPESTIMATE2011</th>\n",
       "      <th>POPESTIMATE2012</th>\n",
       "      <th>...</th>\n",
       "      <th>RDOMESTICMIG2019</th>\n",
       "      <th>RNETMIG2011</th>\n",
       "      <th>RNETMIG2012</th>\n",
       "      <th>RNETMIG2013</th>\n",
       "      <th>RNETMIG2014</th>\n",
       "      <th>RNETMIG2015</th>\n",
       "      <th>RNETMIG2016</th>\n",
       "      <th>RNETMIG2017</th>\n",
       "      <th>RNETMIG2018</th>\n",
       "      <th>RNETMIG2019</th>\n",
       "    </tr>\n",
       "  </thead>\n",
       "  <tbody>\n",
       "    <tr>\n",
       "      <th>0</th>\n",
       "      <td>10</td>\n",
       "      <td>0</td>\n",
       "      <td>0</td>\n",
       "      <td>0</td>\n",
       "      <td>United States</td>\n",
       "      <td>308745538</td>\n",
       "      <td>308758105</td>\n",
       "      <td>309321666</td>\n",
       "      <td>311556874</td>\n",
       "      <td>313830990</td>\n",
       "      <td>...</td>\n",
       "      <td>0.000000</td>\n",
       "      <td>2.493773</td>\n",
       "      <td>2.682083</td>\n",
       "      <td>2.636187</td>\n",
       "      <td>2.921500</td>\n",
       "      <td>3.260435</td>\n",
       "      <td>3.252788</td>\n",
       "      <td>2.871957</td>\n",
       "      <td>2.153911</td>\n",
       "      <td>1.818059</td>\n",
       "    </tr>\n",
       "    <tr>\n",
       "      <th>1</th>\n",
       "      <td>20</td>\n",
       "      <td>1</td>\n",
       "      <td>0</td>\n",
       "      <td>0</td>\n",
       "      <td>Northeast Region</td>\n",
       "      <td>55317240</td>\n",
       "      <td>55318443</td>\n",
       "      <td>55380134</td>\n",
       "      <td>55604223</td>\n",
       "      <td>55775216</td>\n",
       "      <td>...</td>\n",
       "      <td>-5.254530</td>\n",
       "      <td>0.887909</td>\n",
       "      <td>-0.038355</td>\n",
       "      <td>-0.469783</td>\n",
       "      <td>-0.986097</td>\n",
       "      <td>-2.061965</td>\n",
       "      <td>-2.490484</td>\n",
       "      <td>-1.837048</td>\n",
       "      <td>-2.134447</td>\n",
       "      <td>-2.859713</td>\n",
       "    </tr>\n",
       "    <tr>\n",
       "      <th>2</th>\n",
       "      <td>20</td>\n",
       "      <td>2</td>\n",
       "      <td>0</td>\n",
       "      <td>0</td>\n",
       "      <td>Midwest Region</td>\n",
       "      <td>66927001</td>\n",
       "      <td>66929725</td>\n",
       "      <td>66974416</td>\n",
       "      <td>67157800</td>\n",
       "      <td>67336743</td>\n",
       "      <td>...</td>\n",
       "      <td>-2.365881</td>\n",
       "      <td>-0.963930</td>\n",
       "      <td>-0.973943</td>\n",
       "      <td>-0.006924</td>\n",
       "      <td>-0.762969</td>\n",
       "      <td>-1.388437</td>\n",
       "      <td>-1.241784</td>\n",
       "      <td>-0.557370</td>\n",
       "      <td>-0.922755</td>\n",
       "      <td>-1.111173</td>\n",
       "    </tr>\n",
       "    <tr>\n",
       "      <th>3</th>\n",
       "      <td>20</td>\n",
       "      <td>3</td>\n",
       "      <td>0</td>\n",
       "      <td>0</td>\n",
       "      <td>South Region</td>\n",
       "      <td>114555744</td>\n",
       "      <td>114563030</td>\n",
       "      <td>114866680</td>\n",
       "      <td>116006522</td>\n",
       "      <td>117241208</td>\n",
       "      <td>...</td>\n",
       "      <td>3.261349</td>\n",
       "      <td>5.130513</td>\n",
       "      <td>5.850458</td>\n",
       "      <td>5.292073</td>\n",
       "      <td>6.161501</td>\n",
       "      <td>7.277358</td>\n",
       "      <td>7.150074</td>\n",
       "      <td>6.198168</td>\n",
       "      <td>5.225519</td>\n",
       "      <td>5.203720</td>\n",
       "    </tr>\n",
       "    <tr>\n",
       "      <th>4</th>\n",
       "      <td>20</td>\n",
       "      <td>4</td>\n",
       "      <td>0</td>\n",
       "      <td>0</td>\n",
       "      <td>West Region</td>\n",
       "      <td>71945553</td>\n",
       "      <td>71946907</td>\n",
       "      <td>72100436</td>\n",
       "      <td>72788329</td>\n",
       "      <td>73477823</td>\n",
       "      <td>...</td>\n",
       "      <td>0.614245</td>\n",
       "      <td>2.723344</td>\n",
       "      <td>3.062896</td>\n",
       "      <td>3.162262</td>\n",
       "      <td>4.026429</td>\n",
       "      <td>4.987285</td>\n",
       "      <td>5.261078</td>\n",
       "      <td>4.021194</td>\n",
       "      <td>3.044951</td>\n",
       "      <td>2.312083</td>\n",
       "    </tr>\n",
       "  </tbody>\n",
       "</table>\n",
       "<p>5 rows × 151 columns</p>\n",
       "</div>"
      ],
      "text/plain": [
       "   SUMLEV REGION DIVISION  STATE              NAME  CENSUS2010POP  \\\n",
       "0      10      0        0      0     United States      308745538   \n",
       "1      20      1        0      0  Northeast Region       55317240   \n",
       "2      20      2        0      0    Midwest Region       66927001   \n",
       "3      20      3        0      0      South Region      114555744   \n",
       "4      20      4        0      0       West Region       71945553   \n",
       "\n",
       "   ESTIMATESBASE2010  POPESTIMATE2010  POPESTIMATE2011  POPESTIMATE2012  ...  \\\n",
       "0          308758105        309321666        311556874        313830990  ...   \n",
       "1           55318443         55380134         55604223         55775216  ...   \n",
       "2           66929725         66974416         67157800         67336743  ...   \n",
       "3          114563030        114866680        116006522        117241208  ...   \n",
       "4           71946907         72100436         72788329         73477823  ...   \n",
       "\n",
       "   RDOMESTICMIG2019  RNETMIG2011  RNETMIG2012  RNETMIG2013  RNETMIG2014  \\\n",
       "0          0.000000     2.493773     2.682083     2.636187     2.921500   \n",
       "1         -5.254530     0.887909    -0.038355    -0.469783    -0.986097   \n",
       "2         -2.365881    -0.963930    -0.973943    -0.006924    -0.762969   \n",
       "3          3.261349     5.130513     5.850458     5.292073     6.161501   \n",
       "4          0.614245     2.723344     3.062896     3.162262     4.026429   \n",
       "\n",
       "   RNETMIG2015  RNETMIG2016  RNETMIG2017  RNETMIG2018  RNETMIG2019  \n",
       "0     3.260435     3.252788     2.871957     2.153911     1.818059  \n",
       "1    -2.061965    -2.490484    -1.837048    -2.134447    -2.859713  \n",
       "2    -1.388437    -1.241784    -0.557370    -0.922755    -1.111173  \n",
       "3     7.277358     7.150074     6.198168     5.225519     5.203720  \n",
       "4     4.987285     5.261078     4.021194     3.044951     2.312083  \n",
       "\n",
       "[5 rows x 151 columns]"
      ]
     },
     "execution_count": 39,
     "metadata": {},
     "output_type": "execute_result"
    }
   ],
   "source": [
    "populationData.head()"
   ]
  },
  {
   "cell_type": "markdown",
   "metadata": {},
   "source": [
    "7/1/2019 resident total population estimate"
   ]
  },
  {
   "cell_type": "code",
   "execution_count": null,
   "metadata": {},
   "outputs": [
    {
     "data": {
      "text/plain": [
       "'United States'"
      ]
     },
     "execution_count": 40,
     "metadata": {},
     "output_type": "execute_result"
    }
   ],
   "source": [
    "populationData['NAME'][0]"
   ]
  },
  {
   "cell_type": "code",
   "execution_count": null,
   "metadata": {},
   "outputs": [],
   "source": [
    "population2019 = populationData['POPESTIMATE2019']"
   ]
  },
  {
   "cell_type": "code",
   "execution_count": null,
   "metadata": {},
   "outputs": [
    {
     "data": {
      "text/plain": [
       "328239523"
      ]
     },
     "execution_count": 42,
     "metadata": {},
     "output_type": "execute_result"
    }
   ],
   "source": [
    "population2019[0]"
   ]
  },
  {
   "cell_type": "markdown",
   "metadata": {},
   "source": [
    "<b>Citation</b>\n",
    "\n",
    "-<i>Centers for Disease Control and Prevention, COVID-19 Response. COVID-19 Case Surveillance Public Data Access, Summary, and Limitations (version date: September 30, 2020)."
   ]
  }
 ],
 "metadata": {
  "kernelspec": {
   "display_name": "Python 3",
   "language": "python",
   "name": "python3"
  },
  "language_info": {
   "codemirror_mode": {
    "name": "ipython",
    "version": 3
   },
   "file_extension": ".py",
   "mimetype": "text/x-python",
   "name": "python",
   "nbconvert_exporter": "python",
   "pygments_lexer": "ipython3",
   "version": "3.9.5"
  }
 },
 "nbformat": 4,
 "nbformat_minor": 4
}
